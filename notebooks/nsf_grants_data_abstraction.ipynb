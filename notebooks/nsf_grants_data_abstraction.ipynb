{
 "cells": [
  {
   "cell_type": "markdown",
   "metadata": {},
   "source": [
    "# Get SNF data\n",
    "\n",
    "The data was downloaded manually directly from the National Science Foundation awards site in XML format by fiscal year, since downloads are limited to 3000 records."
   ]
  },
  {
   "cell_type": "code",
   "execution_count": 1,
   "metadata": {},
   "outputs": [],
   "source": [
    "import pandas as pd\n",
    "import io\n",
    "import glob\n",
    "import xml.etree.ElementTree as ET\n",
    "\n",
    "pd.set_option('display.max_columns',500)\n",
    "pd.set_option('display.max_rows', 500)\n",
    "# set wider prints for pd\n",
    "pd.options.display.max_colwidth = 250\n",
    "\n",
    "# set filterwarnings to 'once' to show warnings only the first time code is run\n",
    "import warnings\n",
    "warnings.filterwarnings('ignore') # show warnings only the first time code is run\n",
    "\n",
    "# pretty print all cell's output and not just the last one\n",
    "from IPython.core.interactiveshell import InteractiveShell\n",
    "InteractiveShell.ast_node_interactivity = 'all'"
   ]
  },
  {
   "cell_type": "code",
   "execution_count": 2,
   "metadata": {},
   "outputs": [
    {
     "data": {
      "text/plain": [
       "12595"
      ]
     },
     "execution_count": 2,
     "metadata": {},
     "output_type": "execute_result"
    },
    {
     "name": "stdout",
     "output_type": "stream",
     "text": [
      "['./data/2016/1607387.xml']\n"
     ]
    },
    {
     "data": {
      "text/plain": [
       "['rootTag',\n",
       " 'Award',\n",
       " 'AwardTitle',\n",
       " 'AwardEffectiveDate',\n",
       " 'AwardExpirationDate',\n",
       " 'AwardTotalIntnAmount',\n",
       " 'AwardAmount',\n",
       " 'AwardInstrument',\n",
       " 'Value',\n",
       " 'Organization',\n",
       " 'Code',\n",
       " 'Directorate',\n",
       " 'Abbreviation',\n",
       " 'LongName',\n",
       " 'Division',\n",
       " 'Abbreviation',\n",
       " 'LongName',\n",
       " 'ProgramOfficer',\n",
       " 'SignBlockName',\n",
       " 'AbstractNarration',\n",
       " 'MinAmdLetterDate',\n",
       " 'MaxAmdLetterDate',\n",
       " 'ARRAAmount',\n",
       " 'AwardID']"
      ]
     },
     "execution_count": 2,
     "metadata": {},
     "output_type": "execute_result"
    },
    {
     "data": {
      "text/html": [
       "<div>\n",
       "<style scoped>\n",
       "    .dataframe tbody tr th:only-of-type {\n",
       "        vertical-align: middle;\n",
       "    }\n",
       "\n",
       "    .dataframe tbody tr th {\n",
       "        vertical-align: top;\n",
       "    }\n",
       "\n",
       "    .dataframe thead th {\n",
       "        text-align: right;\n",
       "    }\n",
       "</style>\n",
       "<table border=\"1\" class=\"dataframe\">\n",
       "  <thead>\n",
       "    <tr style=\"text-align: right;\">\n",
       "      <th></th>\n",
       "      <th>rootTag</th>\n",
       "      <th>Award</th>\n",
       "      <th>AwardTitle</th>\n",
       "      <th>AwardEffectiveDate</th>\n",
       "      <th>AwardExpirationDate</th>\n",
       "      <th>AwardTotalIntnAmount</th>\n",
       "      <th>AwardAmount</th>\n",
       "      <th>AwardInstrument</th>\n",
       "      <th>Value</th>\n",
       "      <th>Organization</th>\n",
       "      <th>Code</th>\n",
       "      <th>Directorate</th>\n",
       "      <th>Abbreviation</th>\n",
       "      <th>LongName</th>\n",
       "      <th>Division</th>\n",
       "      <th>Abbreviation</th>\n",
       "      <th>LongName</th>\n",
       "      <th>ProgramOfficer</th>\n",
       "      <th>SignBlockName</th>\n",
       "      <th>AbstractNarration</th>\n",
       "      <th>MinAmdLetterDate</th>\n",
       "      <th>MaxAmdLetterDate</th>\n",
       "      <th>ARRAAmount</th>\n",
       "      <th>AwardID</th>\n",
       "    </tr>\n",
       "  </thead>\n",
       "  <tbody>\n",
       "    <tr>\n",
       "      <th>0</th>\n",
       "      <td>\\n</td>\n",
       "      <td>\\n</td>\n",
       "      <td>The NuPRISM Detector: Extending the Sensitivity of Neutrino Oscillation  Experiments</td>\n",
       "      <td>09/01/2016</td>\n",
       "      <td>08/31/2019</td>\n",
       "      <td>240000.00</td>\n",
       "      <td>240000</td>\n",
       "      <td>\\n</td>\n",
       "      <td>Continuing grant</td>\n",
       "      <td>\\n</td>\n",
       "      <td>03010000</td>\n",
       "      <td>\\n</td>\n",
       "      <td>MPS</td>\n",
       "      <td>Direct For Mathematical &amp; Physical Scien</td>\n",
       "      <td>\\n</td>\n",
       "      <td>PHY</td>\n",
       "      <td>Division Of Physics</td>\n",
       "      <td>\\n</td>\n",
       "      <td>Randy Ruchti</td>\n",
       "      <td>This award supports work to understand neutrinos: the smallest but most common massive particle in the universe. Although there are a billion neutrinos for every more well-known electron or proton, neutrinos interact only via the so-called \"weak\"...</td>\n",
       "      <td>07/05/2016</td>\n",
       "      <td>07/13/2018</td>\n",
       "      <td>None</td>\n",
       "      <td>1607387</td>\n",
       "    </tr>\n",
       "  </tbody>\n",
       "</table>\n",
       "</div>"
      ],
      "text/plain": [
       "  rootTag Award  \\\n",
       "0      \\n    \\n   \n",
       "\n",
       "                                                                             AwardTitle  \\\n",
       "0  The NuPRISM Detector: Extending the Sensitivity of Neutrino Oscillation  Experiments   \n",
       "\n",
       "  AwardEffectiveDate AwardExpirationDate AwardTotalIntnAmount AwardAmount  \\\n",
       "0         09/01/2016          08/31/2019            240000.00      240000   \n",
       "\n",
       "  AwardInstrument             Value Organization      Code Directorate  \\\n",
       "0              \\n  Continuing grant           \\n  03010000          \\n   \n",
       "\n",
       "  Abbreviation                                  LongName Division  \\\n",
       "0          MPS  Direct For Mathematical & Physical Scien       \\n   \n",
       "\n",
       "  Abbreviation             LongName ProgramOfficer SignBlockName  \\\n",
       "0          PHY  Division Of Physics             \\n  Randy Ruchti   \n",
       "\n",
       "                                                                                                                                                                                                                                           AbstractNarration  \\\n",
       "0  This award supports work to understand neutrinos: the smallest but most common massive particle in the universe. Although there are a billion neutrinos for every more well-known electron or proton, neutrinos interact only via the so-called \"weak\"...   \n",
       "\n",
       "  MinAmdLetterDate MaxAmdLetterDate ARRAAmount  AwardID  \n",
       "0       07/05/2016       07/13/2018       None  1607387  "
      ]
     },
     "execution_count": 2,
     "metadata": {},
     "output_type": "execute_result"
    }
   ],
   "source": [
    "# Write the pattern: pattern\n",
    "pattern = '*.xml'\n",
    "\n",
    "xml_files = glob.glob('./data/2016/'+pattern)\n",
    "\n",
    "# Print the file names\n",
    "len(xml_files)\n",
    "print(xml_files[:1])\n",
    "\n",
    "tree = ET.parse('./data/2016/1607387.xml')\n",
    "root = tree.getroot()\n",
    "snf = [elem.text for elem in root.iter()]\n",
    "column_names= [elem.tag for elem in root.iter()]\n",
    "column_names\n",
    "df_snf = pd.DataFrame(snf).T\n",
    "df_snf.columns = column_names\n",
    "df_snf.head(1)"
   ]
  },
  {
   "cell_type": "code",
   "execution_count": 3,
   "metadata": {},
   "outputs": [],
   "source": [
    "def get_files(files_path, pattern = '*.xml'):\n",
    "    # Write the pattern: pattern\n",
    "    #pattern = '*.xml'\n",
    "    # get all the xml files into a list\n",
    "    xml_files = glob.glob(files_path+pattern)\n",
    "    # return list of files\n",
    "    return xml_files"
   ]
  },
  {
   "cell_type": "code",
   "execution_count": 4,
   "metadata": {},
   "outputs": [],
   "source": [
    "def get_valid_columns(xml_files_list, extract_columns_from_file=5):\n",
    "    tree = ET.parse(xml_files[exract_columns_from_file])\n",
    "    root = tree.getroot()\n",
    "    l = [elem.text for elem in root.iter()]\n",
    "    df = pd.DataFrame(l).T\n",
    "    columns = [elem.tag for elem in root.iter()]\n",
    "    return columns"
   ]
  },
  {
   "cell_type": "code",
   "execution_count": 5,
   "metadata": {},
   "outputs": [],
   "source": [
    "# choose only valid columns\n",
    "valid_columns = ['AwardID','AwardTitle', 'AwardEffectiveDate','AwardExpirationDate', 'AwardTotalIntnAmount', 'SignBlockName','AwardAmount', 'LongName',\n",
    "                     'Value','AbstractNarration','Institution','Name', 'CityName', 'ZipCode','CountryName', 'StateName', 'StateCode']\n",
    "\n",
    "\n",
    "def read_xml(list_xml_files, valid_columns):\n",
    "    final = []\n",
    "    df = pd.DataFrame().T\n",
    "    for i in list_xml_files: #for i in xml_files[:1]:\n",
    "        path = \"'\"+str(i)+\"'\"\n",
    "        #print('reading ' + path)\n",
    "        try:\n",
    "            tree = ET.parse(i)\n",
    "            root = tree.getroot()\n",
    "            snf = [elem.text for elem in root.iter()]\n",
    "            column_names= [elem.tag for elem in root.iter()]\n",
    "            df_snf = pd.DataFrame(snf).T\n",
    "            df_snf.columns = column_names\n",
    "            df_snf = df_snf.loc[:,valid_columns]\n",
    "        #df_snf.info()\n",
    "            df_snf = df_snf.astype(str) # convert all data to same type to make concatanation easier\n",
    "            df= pd.concat([df,df_snf], axis=0, sort = False)  \n",
    "        except:\n",
    "            pass\n",
    "        #final.append(df_snf)\n",
    "    return df"
   ]
  },
  {
   "cell_type": "code",
   "execution_count": 6,
   "metadata": {},
   "outputs": [],
   "source": [
    "save_path = \"./data/snf_\""
   ]
  },
  {
   "cell_type": "code",
   "execution_count": 7,
   "metadata": {},
   "outputs": [],
   "source": [
    "xml_files_2015 = get_files('./data/2015/', '*.xml')"
   ]
  },
  {
   "cell_type": "code",
   "execution_count": 8,
   "metadata": {},
   "outputs": [
    {
     "data": {
      "text/plain": [
       "13074"
      ]
     },
     "execution_count": 8,
     "metadata": {},
     "output_type": "execute_result"
    }
   ],
   "source": [
    "len(xml_files_2015)"
   ]
  },
  {
   "cell_type": "code",
   "execution_count": 9,
   "metadata": {},
   "outputs": [],
   "source": [
    "snf_2015 = read_xml(xml_files_2015, valid_columns)"
   ]
  },
  {
   "cell_type": "code",
   "execution_count": 10,
   "metadata": {},
   "outputs": [
    {
     "data": {
      "text/html": [
       "<div>\n",
       "<style scoped>\n",
       "    .dataframe tbody tr th:only-of-type {\n",
       "        vertical-align: middle;\n",
       "    }\n",
       "\n",
       "    .dataframe tbody tr th {\n",
       "        vertical-align: top;\n",
       "    }\n",
       "\n",
       "    .dataframe thead th {\n",
       "        text-align: right;\n",
       "    }\n",
       "</style>\n",
       "<table border=\"1\" class=\"dataframe\">\n",
       "  <thead>\n",
       "    <tr style=\"text-align: right;\">\n",
       "      <th></th>\n",
       "      <th>AwardID</th>\n",
       "      <th>AwardTitle</th>\n",
       "      <th>AwardEffectiveDate</th>\n",
       "      <th>AwardExpirationDate</th>\n",
       "      <th>AwardTotalIntnAmount</th>\n",
       "      <th>SignBlockName</th>\n",
       "      <th>AwardAmount</th>\n",
       "      <th>LongName</th>\n",
       "      <th>LongName</th>\n",
       "      <th>Value</th>\n",
       "      <th>AbstractNarration</th>\n",
       "      <th>Institution</th>\n",
       "      <th>Name</th>\n",
       "      <th>CityName</th>\n",
       "      <th>ZipCode</th>\n",
       "      <th>CountryName</th>\n",
       "      <th>StateName</th>\n",
       "      <th>StateCode</th>\n",
       "    </tr>\n",
       "  </thead>\n",
       "  <tbody>\n",
       "    <tr>\n",
       "      <th>0</th>\n",
       "      <td>1522829</td>\n",
       "      <td>Exploring the Linkages among Mid-Latitude Dynamics, Clouds, and Climate Sensitivity</td>\n",
       "      <td>08/01/2015</td>\n",
       "      <td>01/31/2020</td>\n",
       "      <td>298314.00</td>\n",
       "      <td>Ming Cai</td>\n",
       "      <td>298314</td>\n",
       "      <td>Directorate For Geosciences</td>\n",
       "      <td>Div Atmospheric &amp; Geospace Sciences</td>\n",
       "      <td>Standard Grant</td>\n",
       "      <td>The goal of this research is to better understand the connection between mid-latitude clouds and dynamics in observations. The reasons for why the such linkages are well-represented in some global climate models but not in others will be studied....</td>\n",
       "      <td>\\n</td>\n",
       "      <td>University of Virginia Main Campus</td>\n",
       "      <td>CHARLOTTESVILLE</td>\n",
       "      <td>229044195</td>\n",
       "      <td>United States</td>\n",
       "      <td>Virginia</td>\n",
       "      <td>VA</td>\n",
       "    </tr>\n",
       "    <tr>\n",
       "      <th>0</th>\n",
       "      <td>1555479</td>\n",
       "      <td>Studies of Optical and Chemical Properties of Biomass Burning Aerosols</td>\n",
       "      <td>02/15/2016</td>\n",
       "      <td>09/30/2019</td>\n",
       "      <td>488281.00</td>\n",
       "      <td>Sylvia Edgerton</td>\n",
       "      <td>488281</td>\n",
       "      <td>Directorate For Geosciences</td>\n",
       "      <td>Div Atmospheric &amp; Geospace Sciences</td>\n",
       "      <td>Standard Grant</td>\n",
       "      <td>This project involves laboratory studies to assess the chemical composition and optical properties of small atmospheric particles created from biomass burning. The investigators are focusing on common East African biomass sources including eucaly...</td>\n",
       "      <td>\\n</td>\n",
       "      <td>North Carolina Agricultural &amp; Technical State University</td>\n",
       "      <td>Greensboro</td>\n",
       "      <td>274110001</td>\n",
       "      <td>United States</td>\n",
       "      <td>North Carolina</td>\n",
       "      <td>NC</td>\n",
       "    </tr>\n",
       "    <tr>\n",
       "      <th>0</th>\n",
       "      <td>1540712</td>\n",
       "      <td>UR Noyce Master Teaching Fellows Program--Phase II:  Leveraging Unique Opportunities to Develop STEM Teacher Leaders for Urban Schools</td>\n",
       "      <td>09/01/2015</td>\n",
       "      <td>08/31/2020</td>\n",
       "      <td>nan</td>\n",
       "      <td>Kathleen B. Bergin</td>\n",
       "      <td>2046998</td>\n",
       "      <td>Direct For Education and Human Resources</td>\n",
       "      <td>Division Of Undergraduate Education</td>\n",
       "      <td>Standard Grant</td>\n",
       "      <td>This Noyce Master Teaching Fellowship project will prepare a cadre of 14, K-12 STEM master teachers for high-need urban districts in upstate New York.   Along with standard professional development activities, Master Teaching Fellows (MTFs) will ...</td>\n",
       "      <td>\\n</td>\n",
       "      <td>University of Rochester</td>\n",
       "      <td>Rochester</td>\n",
       "      <td>146270140</td>\n",
       "      <td>United States</td>\n",
       "      <td>New York</td>\n",
       "      <td>NY</td>\n",
       "    </tr>\n",
       "    <tr>\n",
       "      <th>0</th>\n",
       "      <td>1519667</td>\n",
       "      <td>IBSS-Ex: Exploring Recidivism Through a Tablet-Based Battery to Assess Individual Decision Making</td>\n",
       "      <td>08/15/2015</td>\n",
       "      <td>01/31/2017</td>\n",
       "      <td>nan</td>\n",
       "      <td>Thomas J. Baerwald</td>\n",
       "      <td>244639</td>\n",
       "      <td>Direct For Social, Behav &amp; Economic Scie</td>\n",
       "      <td>SBE Off Of Multidisciplinary Activities</td>\n",
       "      <td>Standard Grant</td>\n",
       "      <td>Scientists long have explored and measured a range of decision-making traits, such as the ability to inhibit impulses or to understand other people's emotions.  Researchers have developed, validated, and refined a wide range of neurocognitive ass...</td>\n",
       "      <td>\\n</td>\n",
       "      <td>Baylor College of Medicine</td>\n",
       "      <td>HOUSTON</td>\n",
       "      <td>770303411</td>\n",
       "      <td>United States</td>\n",
       "      <td>Texas</td>\n",
       "      <td>TX</td>\n",
       "    </tr>\n",
       "    <tr>\n",
       "      <th>0</th>\n",
       "      <td>1550501</td>\n",
       "      <td>Alvins New Users Workshop</td>\n",
       "      <td>07/15/2015</td>\n",
       "      <td>12/31/2017</td>\n",
       "      <td>nan</td>\n",
       "      <td>Brian Midson</td>\n",
       "      <td>52953</td>\n",
       "      <td>Directorate For Geosciences</td>\n",
       "      <td>Division Of Ocean Sciences</td>\n",
       "      <td>Standard Grant</td>\n",
       "      <td>This award provides funds for an early career development exercise using the Human Occupied Vehicle Alvin.  The training will include a series of half-day, mini-courses on various aspects of Alvin dive operations, cruise planning and execution, a...</td>\n",
       "      <td>\\n</td>\n",
       "      <td>Woods Hole Oceanographic Institution</td>\n",
       "      <td>WOODS HOLE</td>\n",
       "      <td>025431041</td>\n",
       "      <td>United States</td>\n",
       "      <td>Massachusetts</td>\n",
       "      <td>MA</td>\n",
       "    </tr>\n",
       "  </tbody>\n",
       "</table>\n",
       "</div>"
      ],
      "text/plain": [
       "   AwardID  \\\n",
       "0  1522829   \n",
       "0  1555479   \n",
       "0  1540712   \n",
       "0  1519667   \n",
       "0  1550501   \n",
       "\n",
       "                                                                                                                               AwardTitle  \\\n",
       "0                                                     Exploring the Linkages among Mid-Latitude Dynamics, Clouds, and Climate Sensitivity   \n",
       "0                                                                  Studies of Optical and Chemical Properties of Biomass Burning Aerosols   \n",
       "0  UR Noyce Master Teaching Fellows Program--Phase II:  Leveraging Unique Opportunities to Develop STEM Teacher Leaders for Urban Schools   \n",
       "0                                       IBSS-Ex: Exploring Recidivism Through a Tablet-Based Battery to Assess Individual Decision Making   \n",
       "0                                                                                                               Alvins New Users Workshop   \n",
       "\n",
       "  AwardEffectiveDate AwardExpirationDate AwardTotalIntnAmount  \\\n",
       "0         08/01/2015          01/31/2020            298314.00   \n",
       "0         02/15/2016          09/30/2019            488281.00   \n",
       "0         09/01/2015          08/31/2020                  nan   \n",
       "0         08/15/2015          01/31/2017                  nan   \n",
       "0         07/15/2015          12/31/2017                  nan   \n",
       "\n",
       "        SignBlockName AwardAmount                                  LongName  \\\n",
       "0            Ming Cai      298314               Directorate For Geosciences   \n",
       "0     Sylvia Edgerton      488281               Directorate For Geosciences   \n",
       "0  Kathleen B. Bergin     2046998  Direct For Education and Human Resources   \n",
       "0  Thomas J. Baerwald      244639  Direct For Social, Behav & Economic Scie   \n",
       "0        Brian Midson       52953               Directorate For Geosciences   \n",
       "\n",
       "                                  LongName           Value  \\\n",
       "0      Div Atmospheric & Geospace Sciences  Standard Grant   \n",
       "0      Div Atmospheric & Geospace Sciences  Standard Grant   \n",
       "0      Division Of Undergraduate Education  Standard Grant   \n",
       "0  SBE Off Of Multidisciplinary Activities  Standard Grant   \n",
       "0               Division Of Ocean Sciences  Standard Grant   \n",
       "\n",
       "                                                                                                                                                                                                                                           AbstractNarration  \\\n",
       "0  The goal of this research is to better understand the connection between mid-latitude clouds and dynamics in observations. The reasons for why the such linkages are well-represented in some global climate models but not in others will be studied....   \n",
       "0  This project involves laboratory studies to assess the chemical composition and optical properties of small atmospheric particles created from biomass burning. The investigators are focusing on common East African biomass sources including eucaly...   \n",
       "0  This Noyce Master Teaching Fellowship project will prepare a cadre of 14, K-12 STEM master teachers for high-need urban districts in upstate New York.   Along with standard professional development activities, Master Teaching Fellows (MTFs) will ...   \n",
       "0  Scientists long have explored and measured a range of decision-making traits, such as the ability to inhibit impulses or to understand other people's emotions.  Researchers have developed, validated, and refined a wide range of neurocognitive ass...   \n",
       "0  This award provides funds for an early career development exercise using the Human Occupied Vehicle Alvin.  The training will include a series of half-day, mini-courses on various aspects of Alvin dive operations, cruise planning and execution, a...   \n",
       "\n",
       "  Institution                                                      Name  \\\n",
       "0          \\n                        University of Virginia Main Campus   \n",
       "0          \\n  North Carolina Agricultural & Technical State University   \n",
       "0          \\n                                   University of Rochester   \n",
       "0          \\n                                Baylor College of Medicine   \n",
       "0          \\n                      Woods Hole Oceanographic Institution   \n",
       "\n",
       "          CityName    ZipCode    CountryName       StateName StateCode  \n",
       "0  CHARLOTTESVILLE  229044195  United States        Virginia        VA  \n",
       "0       Greensboro  274110001  United States  North Carolina        NC  \n",
       "0        Rochester  146270140  United States        New York        NY  \n",
       "0          HOUSTON  770303411  United States           Texas        TX  \n",
       "0       WOODS HOLE  025431041  United States   Massachusetts        MA  "
      ]
     },
     "execution_count": 10,
     "metadata": {},
     "output_type": "execute_result"
    }
   ],
   "source": [
    "snf_2015.head()"
   ]
  },
  {
   "cell_type": "code",
   "execution_count": 11,
   "metadata": {},
   "outputs": [
    {
     "data": {
      "text/plain": [
       "(13070, 18)"
      ]
     },
     "execution_count": 11,
     "metadata": {},
     "output_type": "execute_result"
    }
   ],
   "source": [
    "snf_2015.shape\n",
    "snf_2015.to_csv('./data/snf_2015.csv', index = False)"
   ]
  },
  {
   "cell_type": "markdown",
   "metadata": {},
   "source": [
    "### Read 2017"
   ]
  },
  {
   "cell_type": "code",
   "execution_count": 12,
   "metadata": {},
   "outputs": [
    {
     "data": {
      "text/plain": [
       "12269"
      ]
     },
     "execution_count": 12,
     "metadata": {},
     "output_type": "execute_result"
    }
   ],
   "source": [
    "xml_files_2017 = get_files('./data/2017/', '*.xml')\n",
    "len(xml_files_2017)"
   ]
  },
  {
   "cell_type": "code",
   "execution_count": 13,
   "metadata": {},
   "outputs": [
    {
     "data": {
      "text/plain": [
       "(12268, 18)"
      ]
     },
     "execution_count": 13,
     "metadata": {},
     "output_type": "execute_result"
    }
   ],
   "source": [
    "snf_2017 = read_xml(xml_files_2017, valid_columns)\n",
    "snf_2017.shape"
   ]
  },
  {
   "cell_type": "code",
   "execution_count": 14,
   "metadata": {},
   "outputs": [],
   "source": [
    "snf_2017.to_csv(save_path+'2017.csv', index = False)"
   ]
  },
  {
   "cell_type": "markdown",
   "metadata": {},
   "source": [
    "### Read 2014"
   ]
  },
  {
   "cell_type": "code",
   "execution_count": 15,
   "metadata": {},
   "outputs": [
    {
     "data": {
      "text/plain": [
       "12109"
      ]
     },
     "execution_count": 15,
     "metadata": {},
     "output_type": "execute_result"
    }
   ],
   "source": [
    "xml_files_2014 = get_files('./data/2014/', '*.xml')\n",
    "len(xml_files_2014)"
   ]
  },
  {
   "cell_type": "code",
   "execution_count": 16,
   "metadata": {},
   "outputs": [
    {
     "data": {
      "text/plain": [
       "(12109, 18)"
      ]
     },
     "execution_count": 16,
     "metadata": {},
     "output_type": "execute_result"
    }
   ],
   "source": [
    "snf_2014 = read_xml(xml_files_2014, valid_columns)\n",
    "snf_2014.shape"
   ]
  },
  {
   "cell_type": "code",
   "execution_count": 17,
   "metadata": {},
   "outputs": [],
   "source": [
    "snf_2014.to_csv(save_path+'2014.csv', index = False)"
   ]
  },
  {
   "cell_type": "markdown",
   "metadata": {},
   "source": [
    "### Read 2013"
   ]
  },
  {
   "cell_type": "code",
   "execution_count": 18,
   "metadata": {},
   "outputs": [
    {
     "data": {
      "text/plain": [
       "11503"
      ]
     },
     "execution_count": 18,
     "metadata": {},
     "output_type": "execute_result"
    }
   ],
   "source": [
    "xml_files_2013 = get_files('./data/2013/', '*.xml')\n",
    "len(xml_files_2013)\n",
    "snf_2013 = read_xml(xml_files_2013, valid_columns)"
   ]
  },
  {
   "cell_type": "code",
   "execution_count": 19,
   "metadata": {},
   "outputs": [
    {
     "data": {
      "text/plain": [
       "(11502, 18)"
      ]
     },
     "execution_count": 19,
     "metadata": {},
     "output_type": "execute_result"
    }
   ],
   "source": [
    "snf_2013.shape\n",
    "snf_2013.to_csv(save_path+'2013.csv', index = False)"
   ]
  },
  {
   "cell_type": "markdown",
   "metadata": {},
   "source": [
    "### Read 2018"
   ]
  },
  {
   "cell_type": "code",
   "execution_count": 20,
   "metadata": {},
   "outputs": [
    {
     "data": {
      "text/plain": [
       "11566"
      ]
     },
     "execution_count": 20,
     "metadata": {},
     "output_type": "execute_result"
    }
   ],
   "source": [
    "xml_files_2018 = get_files('./data/2018/', '*.xml')\n",
    "len(xml_files_2018)\n",
    "snf_2018 = read_xml(xml_files_2018, valid_columns)"
   ]
  },
  {
   "cell_type": "code",
   "execution_count": 21,
   "metadata": {},
   "outputs": [],
   "source": [
    "snf_2018 = read_xml(xml_files_2018, valid_columns)"
   ]
  },
  {
   "cell_type": "code",
   "execution_count": 22,
   "metadata": {},
   "outputs": [
    {
     "data": {
      "text/plain": [
       "(11564, 18)"
      ]
     },
     "execution_count": 22,
     "metadata": {},
     "output_type": "execute_result"
    }
   ],
   "source": [
    "snf_2018.shape\n",
    "snf_2018.to_csv(save_path+'2018.csv', index = False)"
   ]
  },
  {
   "cell_type": "markdown",
   "metadata": {},
   "source": [
    "### Read 2012"
   ]
  },
  {
   "cell_type": "code",
   "execution_count": 23,
   "metadata": {},
   "outputs": [
    {
     "data": {
      "text/plain": [
       "12169"
      ]
     },
     "execution_count": 23,
     "metadata": {},
     "output_type": "execute_result"
    }
   ],
   "source": [
    "xml_files_2012 = get_files('./data/2012/', '*.xml')\n",
    "len(xml_files_2012)\n",
    "snf_2012 = read_xml(xml_files_2012, valid_columns)"
   ]
  },
  {
   "cell_type": "code",
   "execution_count": 24,
   "metadata": {},
   "outputs": [
    {
     "data": {
      "text/plain": [
       "(12167, 18)"
      ]
     },
     "execution_count": 24,
     "metadata": {},
     "output_type": "execute_result"
    }
   ],
   "source": [
    "snf_2012.shape\n",
    "snf_2012.to_csv(save_path+'2012.csv', index = False)"
   ]
  },
  {
   "cell_type": "markdown",
   "metadata": {},
   "source": [
    "### Read 2011"
   ]
  },
  {
   "cell_type": "code",
   "execution_count": 25,
   "metadata": {},
   "outputs": [
    {
     "data": {
      "text/plain": [
       "11652"
      ]
     },
     "execution_count": 25,
     "metadata": {},
     "output_type": "execute_result"
    }
   ],
   "source": [
    "xml_files_2011 = get_files('./data/2011/', '*.xml')\n",
    "len(xml_files_2011)\n",
    "snf_2011 = read_xml(xml_files_2011, valid_columns)"
   ]
  },
  {
   "cell_type": "code",
   "execution_count": 26,
   "metadata": {},
   "outputs": [
    {
     "data": {
      "text/plain": [
       "(11649, 18)"
      ]
     },
     "execution_count": 26,
     "metadata": {},
     "output_type": "execute_result"
    }
   ],
   "source": [
    "snf_2011.shape\n",
    "snf_2011.to_csv(save_path+'2011.csv', index = False)"
   ]
  },
  {
   "cell_type": "markdown",
   "metadata": {},
   "source": [
    "### Read 2010"
   ]
  },
  {
   "cell_type": "code",
   "execution_count": 27,
   "metadata": {},
   "outputs": [
    {
     "data": {
      "text/plain": [
       "13094"
      ]
     },
     "execution_count": 27,
     "metadata": {},
     "output_type": "execute_result"
    }
   ],
   "source": [
    "xml_files_2010 = get_files('./data/2010/', '*.xml')\n",
    "len(xml_files_2010)\n",
    "snf_2010 = read_xml(xml_files_2010, valid_columns)"
   ]
  },
  {
   "cell_type": "code",
   "execution_count": 28,
   "metadata": {},
   "outputs": [
    {
     "data": {
      "text/plain": [
       "(12458, 18)"
      ]
     },
     "execution_count": 28,
     "metadata": {},
     "output_type": "execute_result"
    }
   ],
   "source": [
    "snf_2010.shape\n",
    "snf_2010.to_csv(save_path+'2010.csv', index = False)"
   ]
  },
  {
   "cell_type": "markdown",
   "metadata": {},
   "source": [
    "### Read 2009"
   ]
  },
  {
   "cell_type": "code",
   "execution_count": 29,
   "metadata": {},
   "outputs": [
    {
     "data": {
      "text/plain": [
       "15433"
      ]
     },
     "execution_count": 29,
     "metadata": {},
     "output_type": "execute_result"
    }
   ],
   "source": [
    "xml_files_2009 = get_files('./data/2009/', '*.xml')\n",
    "len(xml_files_2009)\n",
    "snf_2009 = read_xml(xml_files_2009, valid_columns)"
   ]
  },
  {
   "cell_type": "code",
   "execution_count": 30,
   "metadata": {},
   "outputs": [
    {
     "data": {
      "text/plain": [
       "(6909, 18)"
      ]
     },
     "execution_count": 30,
     "metadata": {},
     "output_type": "execute_result"
    }
   ],
   "source": [
    "snf_2009.shape\n",
    "snf_2009.to_csv(save_path+'2009.csv', index = False)"
   ]
  },
  {
   "cell_type": "markdown",
   "metadata": {},
   "source": [
    "### Read 2008"
   ]
  },
  {
   "cell_type": "code",
   "execution_count": 31,
   "metadata": {},
   "outputs": [
    {
     "data": {
      "text/plain": [
       "12614"
      ]
     },
     "execution_count": 31,
     "metadata": {},
     "output_type": "execute_result"
    }
   ],
   "source": [
    "xml_files_2008 = get_files('./data/2008/', '*.xml')\n",
    "len(xml_files_2008)\n",
    "snf_2008 = read_xml(xml_files_2008, valid_columns)"
   ]
  },
  {
   "cell_type": "code",
   "execution_count": 32,
   "metadata": {},
   "outputs": [
    {
     "data": {
      "text/plain": [
       "(7877, 19)"
      ]
     },
     "execution_count": 32,
     "metadata": {},
     "output_type": "execute_result"
    }
   ],
   "source": [
    "snf_2008.shape\n",
    "snf_2008.to_csv(save_path+'2008.csv', index = False)"
   ]
  },
  {
   "cell_type": "markdown",
   "metadata": {},
   "source": [
    "### Read 2007"
   ]
  },
  {
   "cell_type": "code",
   "execution_count": 33,
   "metadata": {},
   "outputs": [
    {
     "data": {
      "text/plain": [
       "12221"
      ]
     },
     "execution_count": 33,
     "metadata": {},
     "output_type": "execute_result"
    }
   ],
   "source": [
    "xml_files_2007 = get_files('./data/2007/', '*.xml')\n",
    "len(xml_files_2007)\n",
    "snf_2007 = read_xml(xml_files_2007, valid_columns)"
   ]
  },
  {
   "cell_type": "code",
   "execution_count": 34,
   "metadata": {},
   "outputs": [
    {
     "data": {
      "text/plain": [
       "(8270, 19)"
      ]
     },
     "execution_count": 34,
     "metadata": {},
     "output_type": "execute_result"
    }
   ],
   "source": [
    "snf_2007.shape\n",
    "snf_2007.to_csv(save_path+'2007.csv', index = False)"
   ]
  },
  {
   "cell_type": "markdown",
   "metadata": {},
   "source": [
    "### Read 2006"
   ]
  },
  {
   "cell_type": "code",
   "execution_count": 35,
   "metadata": {},
   "outputs": [
    {
     "data": {
      "text/plain": [
       "11064"
      ]
     },
     "execution_count": 35,
     "metadata": {},
     "output_type": "execute_result"
    }
   ],
   "source": [
    "xml_files_2006 = get_files('./data/2006/', '*.xml')\n",
    "len(xml_files_2006)\n",
    "snf_2006 = read_xml(xml_files_2006, valid_columns)"
   ]
  },
  {
   "cell_type": "code",
   "execution_count": 36,
   "metadata": {},
   "outputs": [
    {
     "data": {
      "text/plain": [
       "(8270, 19)"
      ]
     },
     "execution_count": 36,
     "metadata": {},
     "output_type": "execute_result"
    }
   ],
   "source": [
    "snf_2007.shape\n",
    "snf_2007.to_csv(save_path+'2006.csv', index = False)"
   ]
  },
  {
   "cell_type": "markdown",
   "metadata": {},
   "source": [
    "### Read 2005"
   ]
  },
  {
   "cell_type": "code",
   "execution_count": 37,
   "metadata": {},
   "outputs": [
    {
     "data": {
      "text/plain": [
       "10726"
      ]
     },
     "execution_count": 37,
     "metadata": {},
     "output_type": "execute_result"
    }
   ],
   "source": [
    "xml_files_2005 = get_files('./data/2005/', '*.xml')\n",
    "len(xml_files_2005)\n",
    "snf_2005 = read_xml(xml_files_2005, valid_columns)"
   ]
  },
  {
   "cell_type": "code",
   "execution_count": 38,
   "metadata": {},
   "outputs": [
    {
     "data": {
      "text/plain": [
       "(7388, 19)"
      ]
     },
     "execution_count": 38,
     "metadata": {},
     "output_type": "execute_result"
    }
   ],
   "source": [
    "snf_2005.shape\n",
    "snf_2005.to_csv(save_path+'2005.csv', index = False)"
   ]
  },
  {
   "cell_type": "markdown",
   "metadata": {},
   "source": [
    "### Read 2004"
   ]
  },
  {
   "cell_type": "code",
   "execution_count": 39,
   "metadata": {},
   "outputs": [
    {
     "data": {
      "text/plain": [
       "10722"
      ]
     },
     "execution_count": 39,
     "metadata": {},
     "output_type": "execute_result"
    }
   ],
   "source": [
    "xml_files_2004 = get_files('./data/2004/', '*.xml')\n",
    "len(xml_files_2004)\n",
    "snf_2004 = read_xml(xml_files_2004, valid_columns)"
   ]
  },
  {
   "cell_type": "code",
   "execution_count": 40,
   "metadata": {},
   "outputs": [
    {
     "data": {
      "text/plain": [
       "(7259, 19)"
      ]
     },
     "execution_count": 40,
     "metadata": {},
     "output_type": "execute_result"
    }
   ],
   "source": [
    "snf_2004.shape\n",
    "snf_2004.to_csv(save_path+'2004.csv', index = False)"
   ]
  },
  {
   "cell_type": "markdown",
   "metadata": {},
   "source": [
    "### Read 2003"
   ]
  },
  {
   "cell_type": "code",
   "execution_count": 41,
   "metadata": {},
   "outputs": [
    {
     "data": {
      "text/plain": [
       "11557"
      ]
     },
     "execution_count": 41,
     "metadata": {},
     "output_type": "execute_result"
    }
   ],
   "source": [
    "xml_files_2003 = get_files('./data/2003/', '*.xml')\n",
    "len(xml_files_2003)\n",
    "snf_2003 = read_xml(xml_files_2003, valid_columns)"
   ]
  },
  {
   "cell_type": "code",
   "execution_count": 42,
   "metadata": {},
   "outputs": [
    {
     "data": {
      "text/plain": [
       "(3128, 18)"
      ]
     },
     "execution_count": 42,
     "metadata": {},
     "output_type": "execute_result"
    }
   ],
   "source": [
    "snf_2003.shape\n",
    "snf_2003.to_csv(save_path+'2003.csv', index = False)"
   ]
  },
  {
   "cell_type": "markdown",
   "metadata": {},
   "source": [
    "### Read 2002"
   ]
  },
  {
   "cell_type": "code",
   "execution_count": 43,
   "metadata": {},
   "outputs": [
    {
     "data": {
      "text/plain": [
       "10950"
      ]
     },
     "execution_count": 43,
     "metadata": {},
     "output_type": "execute_result"
    }
   ],
   "source": [
    "xml_files_2002 = get_files('./data/2002/')\n",
    "len(xml_files_2002)\n",
    "snf_2002 = read_xml(xml_files_2002, valid_columns)"
   ]
  },
  {
   "cell_type": "code",
   "execution_count": 44,
   "metadata": {},
   "outputs": [
    {
     "data": {
      "text/plain": [
       "(7658, 19)"
      ]
     },
     "execution_count": 44,
     "metadata": {},
     "output_type": "execute_result"
    }
   ],
   "source": [
    "snf_2002.shape\n",
    "snf_2002.to_csv(save_path+'2002.csv', index = False)"
   ]
  },
  {
   "cell_type": "markdown",
   "metadata": {},
   "source": [
    "### Read 2001"
   ]
  },
  {
   "cell_type": "code",
   "execution_count": 45,
   "metadata": {},
   "outputs": [
    {
     "data": {
      "text/plain": [
       "9847"
      ]
     },
     "execution_count": 45,
     "metadata": {},
     "output_type": "execute_result"
    }
   ],
   "source": [
    "xml_files_2001 = get_files('./data/2001/')\n",
    "len(xml_files_2001)\n",
    "snf_2001 = read_xml(xml_files_2001, valid_columns)"
   ]
  },
  {
   "cell_type": "code",
   "execution_count": 46,
   "metadata": {},
   "outputs": [
    {
     "data": {
      "text/plain": [
       "(2230, 18)"
      ]
     },
     "execution_count": 46,
     "metadata": {},
     "output_type": "execute_result"
    }
   ],
   "source": [
    "snf_2001.shape\n",
    "snf_2001.to_csv(save_path+'2001.csv', index = False)"
   ]
  },
  {
   "cell_type": "markdown",
   "metadata": {},
   "source": [
    "### Read 2000"
   ]
  },
  {
   "cell_type": "code",
   "execution_count": 47,
   "metadata": {},
   "outputs": [
    {
     "data": {
      "text/plain": [
       "10369"
      ]
     },
     "execution_count": 47,
     "metadata": {},
     "output_type": "execute_result"
    }
   ],
   "source": [
    "xml_files_2000 = get_files('./data/2000/')\n",
    "len(xml_files_2000)\n",
    "snf_2000 = read_xml(xml_files_2000, valid_columns)"
   ]
  },
  {
   "cell_type": "code",
   "execution_count": 48,
   "metadata": {},
   "outputs": [
    {
     "data": {
      "text/plain": [
       "(7442, 19)"
      ]
     },
     "execution_count": 48,
     "metadata": {},
     "output_type": "execute_result"
    }
   ],
   "source": [
    "snf_2000.shape\n",
    "snf_2000.to_csv(save_path+'2000.csv', index = False)"
   ]
  },
  {
   "cell_type": "markdown",
   "metadata": {},
   "source": [
    "### Read 2016"
   ]
  },
  {
   "cell_type": "code",
   "execution_count": 49,
   "metadata": {},
   "outputs": [
    {
     "data": {
      "text/plain": [
       "12595"
      ]
     },
     "execution_count": 49,
     "metadata": {},
     "output_type": "execute_result"
    }
   ],
   "source": [
    "xml_files_2016 = get_files('./data/2016/')\n",
    "len(xml_files_2016)\n",
    "snf_2016 = read_xml(xml_files_2016, valid_columns)"
   ]
  },
  {
   "cell_type": "code",
   "execution_count": 50,
   "metadata": {},
   "outputs": [
    {
     "data": {
      "text/plain": [
       "(12595, 18)"
      ]
     },
     "execution_count": 50,
     "metadata": {},
     "output_type": "execute_result"
    }
   ],
   "source": [
    "snf_2016.shape\n",
    "snf_2016.to_csv(save_path+'2016.csv', index = False)"
   ]
  },
  {
   "cell_type": "markdown",
   "metadata": {},
   "source": [
    "## Merge all the data"
   ]
  },
  {
   "cell_type": "code",
   "execution_count": 57,
   "metadata": {},
   "outputs": [
    {
     "data": {
      "text/plain": [
       "19"
      ]
     },
     "execution_count": 57,
     "metadata": {},
     "output_type": "execute_result"
    }
   ],
   "source": [
    "data = get_files('./data/', '*.csv')\n",
    "len(data)"
   ]
  },
  {
   "cell_type": "code",
   "execution_count": 58,
   "metadata": {},
   "outputs": [],
   "source": [
    "# use a list comprehension to iterate through csv files, read them and append them to an empty list\n",
    "snf_data_list = []\n",
    "snf_append = [snf_data_list.append(pd.read_csv(file)) for file in data]\n",
    "snf_data = pd.concat(snf_data_list)"
   ]
  },
  {
   "cell_type": "code",
   "execution_count": 59,
   "metadata": {},
   "outputs": [
    {
     "data": {
      "text/plain": [
       "(175813, 19)"
      ]
     },
     "execution_count": 59,
     "metadata": {},
     "output_type": "execute_result"
    }
   ],
   "source": [
    "snf_data.shape"
   ]
  },
  {
   "cell_type": "code",
   "execution_count": 60,
   "metadata": {},
   "outputs": [],
   "source": [
    "snf_data.drop_duplicates(keep = 'first',inplace=True)"
   ]
  },
  {
   "cell_type": "code",
   "execution_count": 61,
   "metadata": {},
   "outputs": [
    {
     "data": {
      "text/plain": [
       "(167542, 19)"
      ]
     },
     "execution_count": 61,
     "metadata": {},
     "output_type": "execute_result"
    }
   ],
   "source": [
    "snf_data.shape"
   ]
  },
  {
   "cell_type": "code",
   "execution_count": 62,
   "metadata": {},
   "outputs": [],
   "source": [
    "#snf_data.to_csv('./data/snf_data.csv', index = False)\n",
    "snf_data.to_csv('../data/raw/snf_data.csv', index = False)\n"
   ]
  }
 ],
 "metadata": {
  "kernelspec": {
   "display_name": "Python 3",
   "language": "python",
   "name": "python3"
  },
  "language_info": {
   "codemirror_mode": {
    "name": "ipython",
    "version": 3
   },
   "file_extension": ".py",
   "mimetype": "text/x-python",
   "name": "python",
   "nbconvert_exporter": "python",
   "pygments_lexer": "ipython3",
   "version": "3.7.3"
  }
 },
 "nbformat": 4,
 "nbformat_minor": 4
}
